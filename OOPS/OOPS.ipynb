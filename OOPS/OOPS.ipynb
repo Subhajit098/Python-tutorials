{
 "cells": [
  {
   "cell_type": "code",
   "execution_count": 1,
   "metadata": {},
   "outputs": [
    {
     "name": "stdout",
     "output_type": "stream",
     "text": [
      "Google\n",
      "Google\n",
      "45\n",
      "300\n",
      "100\n",
      "Flipkart\n",
      "Flipkart\n"
     ]
    }
   ],
   "source": [
    "# class is a blueprint or template for creating objects\n",
    "# defining class does not occupy memory\n",
    "# Memory is allocated only after object instantiation\n",
    "\n",
    "\n",
    "# Naming conventions\n",
    "# 1)PascalCase\n",
    "# 2)camelCase\n",
    "# PascalCase is used for creating objects,class names,interfaces and namespaces\n",
    "\n",
    "\n",
    "class Employee:\n",
    "    # variables and names\n",
    "    company=\"Google\"\n",
    "    salary=100\n",
    "\n",
    "# Here company is a class attribute as it belongs to the class rather than a particular object. \n",
    "# e.g. company of two or more employees can be same, age ,gender,etc\n",
    "\n",
    "harry=Employee()\n",
    "rajni=Employee()\n",
    "print(harry.company)\n",
    "print(rajni.company)\n",
    "\n",
    "\n",
    "# Instance Attribute: an attribute that belongs to the instance(object) \n",
    "# e.g. name, phone number,etc\n",
    "harry.salary=300\n",
    "harry.age=45\n",
    "# rajni.salary=400\n",
    "print(harry.age)\n",
    "print(harry.salary)\n",
    "print(rajni.salary)\n",
    "# instance attribute takes precedene over class attribute\n",
    "# print(rajni.address)\n",
    "# throws error as the above attribute is not present in the instance of the class(i.e., the object) and in the class also\n",
    "\n",
    "\n",
    "Employee.company=\"Flipkart\"\n",
    "Employee.company=\"Flipkart\"\n",
    "print(harry.company)\n",
    "print(harry.company)\n",
    "\n",
    "\n"
   ]
  },
  {
   "cell_type": "code",
   "execution_count": 4,
   "metadata": {},
   "outputs": [
    {
     "name": "stdout",
     "output_type": "stream",
     "text": [
      "salary for the employee working in Google is 10000000\n",
      "Thanks!\n"
     ]
    }
   ],
   "source": [
    "# SELF Parameter\n",
    "# self is used for both accessing class as well instance attributes \n",
    "\n",
    "class Employees:\n",
    "    company=\"Google\"\n",
    "    salary=1000\n",
    "    def getSalary(self,signature):\n",
    "        print(f\"salary for the employee working in {self.company} is {self.salary}\\n{signature}!\")\n",
    "\n",
    "\n",
    "harry=Employees()\n",
    "harry.salary=10000000\n",
    "harry.getSalary(\"Thanks\")        \n"
   ]
  },
  {
   "cell_type": "code",
   "execution_count": 1,
   "metadata": {},
   "outputs": [
    {
     "name": "stdout",
     "output_type": "stream",
     "text": [
      "Hello client\n"
     ]
    }
   ],
   "source": [
    "# Static Method\n",
    "# It is independent of the class instance\n",
    "# sometimes we need a function that doesnt use the self parameter, we define a static method like this:\n",
    "class people():\n",
    " @staticmethod\n",
    " def greet():\n",
    "  print(\"Hello client\")\n",
    "\n",
    "rohit=people()\n",
    "rohit.greet()\n"
   ]
  },
  {
   "cell_type": "code",
   "execution_count": 2,
   "metadata": {},
   "outputs": [
    {
     "name": "stdout",
     "output_type": "stream",
     "text": [
      "Employee are here\n",
      "salry is 1000\n"
     ]
    }
   ],
   "source": [
    "# constructors\n",
    "class Employees():\n",
    "    company=\"Google\"\n",
    "\n",
    "    def __init__(self,name,salry,submit):\n",
    "        self.name=name\n",
    "        self.salary=salry\n",
    "        self.submit=submit\n",
    "        print(\"Employee are here\")\n",
    "        print(f\"salry is {self.salary}\")\n",
    "\n",
    "    def getDatas(self):\n",
    "        print(f\" name of the employee is {self.name}\")\n",
    "        print(f\" salary of the employee is {self.salary}\")\n",
    "        print(f\" submit of the employee is {self.submit}\")\n",
    "        pass\n",
    "         \n",
    "\n",
    "\n",
    "harry=Employees(\"harry\",1000,\"printers\")\n",
    "# harry.getDatas()\n",
    "\n",
    "\n",
    "# 9:17"
   ]
  },
  {
   "cell_type": "markdown",
   "metadata": {},
   "source": [
    "PRACTICE SET FOR OOPS"
   ]
  },
  {
   "cell_type": "code",
   "execution_count": 42,
   "metadata": {},
   "outputs": [
    {
     "name": "stdout",
     "output_type": "stream",
     "text": [
      "The name of the Microsoft programmer is Harry and the product he/she is working on is Facebook\n",
      "The name of the Microsoft programmer is Sheema and the product he/she is working on is Adobe\n"
     ]
    }
   ],
   "source": [
    "# Problem 1\n",
    "class Programmer:\n",
    "    company=\"Microsoft\"\n",
    "    def __init__(self,name,product) :\n",
    "        self.name=name\n",
    "        self.product=product\n",
    "    def getInfo(self):\n",
    "        print(f\"The name of the {self.company} programmer is {self.name} and the product he/she is working on is {self.product}\")     \n",
    "\n",
    "harry=Programmer(\"Harry\",\"Facebook\")\n",
    "sheema=Programmer(\"Sheema\",\"Adobe\")        \n",
    "harry.getInfo()\n",
    "sheema.getInfo()"
   ]
  },
  {
   "cell_type": "code",
   "execution_count": 44,
   "metadata": {},
   "outputs": [
    {
     "name": "stdout",
     "output_type": "stream",
     "text": [
      "squared : 9\n",
      "cubed : 27\n",
      "cuberoot : 1.4422495703074083\n"
     ]
    }
   ],
   "source": [
    "# Problem 2\n",
    "class Calculator:\n",
    "    def __init__(self,num):\n",
    "        self.num=num\n",
    "    def Square(self):\n",
    "        print(f\"squared : {self.num**2}\")\n",
    "    def Cube(self):\n",
    "         print(f\"cubed : {self.num**3}\")\n",
    "    def CubeRoot(self):\n",
    "        print(f\"cuberoot : {self.num**(1/3)}\")\n",
    "\n",
    "\n",
    "a=Calculator(3)\n",
    "a.Square()\n",
    "a.Cube()\n",
    "a.CubeRoot()        "
   ]
  },
  {
   "cell_type": "code",
   "execution_count": 45,
   "metadata": {},
   "outputs": [
    {
     "name": "stdout",
     "output_type": "stream",
     "text": [
      "Hello\n"
     ]
    }
   ],
   "source": [
    "# Problem 3 and 4\n",
    "class sample:\n",
    "    a=\"harry\"\n",
    "    @staticmethod\n",
    "    def greet():\n",
    "     print(\"Hello\")\n",
    "\n",
    "obj=sample()\n",
    "obj.greet()\n"
   ]
  }
 ],
 "metadata": {
  "kernelspec": {
   "display_name": "Python 3.10.7 64-bit",
   "language": "python",
   "name": "python3"
  },
  "language_info": {
   "codemirror_mode": {
    "name": "ipython",
    "version": 3
   },
   "file_extension": ".py",
   "mimetype": "text/x-python",
   "name": "python",
   "nbconvert_exporter": "python",
   "pygments_lexer": "ipython3",
   "version": "3.10.7"
  },
  "orig_nbformat": 4,
  "vscode": {
   "interpreter": {
    "hash": "4ad4152416c9be57e3345f7bf80d67108b3c957628ff06c7bb0aef6813f68dbf"
   }
  }
 },
 "nbformat": 4,
 "nbformat_minor": 2
}
