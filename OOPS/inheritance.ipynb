{
 "cells": [
  {
   "cell_type": "code",
   "execution_count": 2,
   "metadata": {},
   "outputs": [
    {
     "name": "stdout",
     "output_type": "stream",
     "text": [
      "He/she is an Engineer\n",
      "He/she is an Google\n",
      "He/she is an 45\n",
      "Good Evening\n"
     ]
    }
   ],
   "source": [
    "# 9:54\n",
    "# Inheritanace is a way of creating a new class from an existing class.\n",
    "\n",
    "# Example:\n",
    "# syntax\n",
    "class Employee:  #here Employee is the base/parent class\n",
    "    # code\n",
    "    company=\"Google\"\n",
    "    @staticmethod\n",
    "    def getLanguage():\n",
    "        print(\"Good Evening\")\n",
    "\n",
    "class Programmer(Employee):  #Here Programmer is the desired or child class \n",
    "    name=\"Person\"\n",
    "    def __init__(self,work,age):\n",
    "        self.work=work\n",
    "        self.age=age\n",
    "    def showDetails(self):\n",
    "        print(f\"He/she is an {self.work}\")\n",
    "        print(f\"He/she is an {self.company}\")\n",
    "        print(f\"He/she is an {self.age}\")\n",
    "\n",
    "\n",
    "a=Employee()\n",
    "b=Programmer(\"Engineer\",45)\n",
    "b.showDetails()\n",
    "b.getLanguage()\n",
    "# we can use the methods and attributes of Employee in programmar object\n",
    "# Also we can overwrite or add new attribute and methods in Programmer class "
   ]
  },
  {
   "cell_type": "code",
   "execution_count": null,
   "metadata": {},
   "outputs": [],
   "source": [
    "# Types of Inheritance\n",
    "# Single Inheritance : when child class inherits only a single parent class\n",
    "# Multiple Inheritance: when child class inherits more than one parnet class\n",
    "# Multilevel Inheritance:  when a child class becomes a parent for another child class\n"
   ]
  },
  {
   "cell_type": "markdown",
   "metadata": {},
   "source": [
    "SINGLE INHERITANCE"
   ]
  },
  {
   "cell_type": "code",
   "execution_count": 3,
   "metadata": {},
   "outputs": [
    {
     "name": "stdout",
     "output_type": "stream",
     "text": [
      "This is an Employee\n",
      "He/she is an Engineer\n",
      "He/she is an Google\n",
      "He/she is an 45\n",
      "This is an Employee\n"
     ]
    }
   ],
   "source": [
    "class Employee:  #here Employee is the base/parent class\n",
    "    # code\n",
    "    company=\"Google\"\n",
    "    def __init__(self):\n",
    "        print(\"This is an Employee\")\n",
    "    @staticmethod\n",
    "    def getLanguage():\n",
    "        print(\"Good Evening\")\n",
    "\n",
    "class Programmer(Employee):  #Here Programmer is the desired or child class \n",
    "    name=\"Person\"\n",
    "    def __init__(self,work,age):\n",
    "        self.work=work\n",
    "        self.age=age\n",
    "    def showDetails(self):\n",
    "        print(f\"He/she is an {self.work}\")\n",
    "        print(f\"He/she is an {self.company}\")\n",
    "        print(f\"He/she is an {self.age}\")\n",
    "        super().__init__()\n",
    "\n",
    "\n",
    "a=Employee()\n",
    "b=Programmer(\"Engineer\",45)\n",
    "b.showDetails()\n",
    "# b.getLanguage()"
   ]
  },
  {
   "cell_type": "markdown",
   "metadata": {},
   "source": [
    "MULTIPLE INHERITANCE"
   ]
  },
  {
   "cell_type": "code",
   "execution_count": 19,
   "metadata": {},
   "outputs": [
    {
     "name": "stdout",
     "output_type": "stream",
     "text": [
      "Visa 5\n",
      "His level is 6\n"
     ]
    }
   ],
   "source": [
    "from unicodedata import name\n",
    "\n",
    "\n",
    "class Employee(object):\n",
    "    company=\"Visa\"\n",
    "    eCode=120\n",
    "class Freelancer(object):\n",
    "    company=\"Fiverr\"\n",
    "    level=0\n",
    "    def upGradeLevel(self):\n",
    "        return print(f\"His level is {self.level+1}\")\n",
    "\n",
    "class Programmer(Employee,Freelancer):\n",
    "    name=\"Ronit\"\n",
    "p=Programmer()\n",
    "p.level=5\n",
    "print(p.company,p.level)\n",
    "p.upGradeLevel()\n",
    "# the value of the parent which is first in the parenthesis takes precedence"
   ]
  },
  {
   "cell_type": "markdown",
   "metadata": {},
   "source": [
    "MULTILEVEL INHERITANCE"
   ]
  },
  {
   "cell_type": "code",
   "execution_count": 32,
   "metadata": {},
   "outputs": [
    {
     "name": "stdout",
     "output_type": "stream",
     "text": [
      "I am breathing\n",
      "Salary is salary\n",
      "I am an Employee so I am breathing..\n",
      "I am an Employee so I am breathing..\n",
      "No Salary to programmer\n",
      "Salary is salary\n"
     ]
    }
   ],
   "source": [
    "class Person:\n",
    "    country=\"India\"\n",
    "    def takebreak(self):\n",
    "        print(\"I am breathing\")\n",
    "\n",
    "class Employee(Person):\n",
    "    company=\"Amazon\"\n",
    "    def getSalary(self):\n",
    "        print(\"Salary is salary\")   \n",
    "    def takebreak(self):\n",
    "        print(\"I am an Employee so I am breathing..\")     \n",
    "\n",
    "class Programmer(Employee):\n",
    "    company=\"Fiverr\"\n",
    "    def getSalary(self):\n",
    "        print(\"No Salary to programmer\")\n",
    "        # return super().getSalary()                    \n",
    "\n",
    "\n",
    "p=Person()\n",
    "p.takebreak()\n",
    "# p.company() #throws an error as the company is not present in class Person \n",
    "b=Employee()\n",
    "b.getSalary()\n",
    "b.takebreak()\n",
    "pr=Programmer()\n",
    "pr.takebreak()\n",
    "pr.getSalary()"
   ]
  },
  {
   "cell_type": "code",
   "execution_count": 1,
   "metadata": {},
   "outputs": [
    {
     "name": "stdout",
     "output_type": "stream",
     "text": [
      "Salary is salary\n",
      "Salary is salary\n",
      "No Salary to programmer\n"
     ]
    }
   ],
   "source": [
    "# Super() method\n",
    "# Super method is used to access the methods of a Super class in the desired class .\n",
    "# The super() function is used to give access to methods and properties of a parent or sibling class .\n",
    "# The super() function returns an object that represents the parent class .\n",
    "\n",
    "class Employee():\n",
    "    company=\"Amazon\"\n",
    "    def getSalary(self):\n",
    "        print(\"Salary is salary\")   \n",
    "    def takebreak(self):\n",
    "        print(\"I am an Employee so I am breathing..\")     \n",
    "\n",
    "class Programmer(Employee):\n",
    "    company=\"Fiverr\"\n",
    "    def getSalary(self):\n",
    "        super().getSalary()\n",
    "        print(\"No Salary to programmer\")\n",
    "\n",
    "\n",
    "a=Employee()\n",
    "b=Programmer()\n",
    "a.getSalary()\n",
    "b.getSalary()"
   ]
  },
  {
   "cell_type": "markdown",
   "metadata": {},
   "source": [
    "CLASS METHODS"
   ]
  },
  {
   "cell_type": "code",
   "execution_count": 44,
   "metadata": {},
   "outputs": [
    {
     "name": "stdout",
     "output_type": "stream",
     "text": [
      "100\n",
      "455\n",
      "455\n"
     ]
    }
   ],
   "source": [
    "# Class methods is used for changing the class attribute and not the instsance attribute.\n",
    "class Employee:\n",
    "    company=\"Camel\"\n",
    "    salary=100\n",
    "    location=\"Delhi\"\n",
    "\n",
    "# 1st way: By dunder methods(the methods which start and end with __)\n",
    "    # def changeSalary(self,sal):\n",
    "    #     self.__class__.salary=sal\n",
    "\n",
    "# 2nd Way: By class method we can access the class and thus adding a decorator @classmethod\n",
    "    @classmethod\n",
    "    def changeSalary(cls,sal):\n",
    "        cls.salary=sal \n",
    "\n",
    "\n",
    "e=Employee()\n",
    "print(e.salary)\n",
    "e.changeSalary(455)\n",
    "print(e.salary)\n",
    "print(Employee.salary)         \n"
   ]
  },
  {
   "cell_type": "markdown",
   "metadata": {},
   "source": [
    "Property Decorator"
   ]
  },
  {
   "cell_type": "code",
   "execution_count": 5,
   "metadata": {},
   "outputs": [
    {
     "name": "stdout",
     "output_type": "stream",
     "text": [
      "7400\n",
      "5800\n",
      "400\n"
     ]
    }
   ],
   "source": [
    "class Employee:\n",
    "    company=\"Bharat Gas\"\n",
    "    salary=5400\n",
    "    bonus=2000\n",
    "    # assume that salarybonus changes\n",
    "\n",
    "    @property\n",
    "    # Its a getter\n",
    "    def totalSalary(self):\n",
    "        return self.salary+self.bonus\n",
    "\n",
    "\n",
    "    @totalSalary.setter\n",
    "    # Its a setter \n",
    "    def totalSalary(self,val):\n",
    "        self.bonus=val-self.salary  \n",
    "\n",
    "\n",
    "e=Employee()\n",
    "print(e.totalSalary)      \n",
    "e.totalSalary=5800\n",
    "print(e.totalSalary)  \n",
    "print(e.bonus)"
   ]
  },
  {
   "cell_type": "markdown",
   "metadata": {},
   "source": [
    "OPERATOR OVERLODADING IN PYTHON"
   ]
  },
  {
   "cell_type": "code",
   "execution_count": 17,
   "metadata": {},
   "outputs": [
    {
     "name": "stdout",
     "output_type": "stream",
     "text": [
      "add\n",
      "multiplication\n",
      "6\n",
      "8\n"
     ]
    }
   ],
   "source": [
    "# Operators in python can be overloaded using dunder methods.\n",
    "# These methods are called when a given opertor is used on the objects.\n",
    "\n",
    "\n",
    "from itertools import product\n",
    "\n",
    "\n",
    "class Number:\n",
    "    def __init__(self,num):\n",
    "        self.num=num\n",
    "        # adding with the help of dunder addition\n",
    "    def __add__(self,num2):\n",
    "        return self.num+num2.num\n",
    "        #  multiplying with the help of dunder multiplication\n",
    "    def __mul__(self,num2):\n",
    "        return self.num*num2.num    \n",
    "\n",
    "\n",
    "n1=Number(4)\n",
    "# Here n1 is the number object\n",
    "n2=Number(2)\n",
    "# Here n2 is the number object\n",
    "sum=n1+n2\n",
    "product=n1*n2 \n",
    "print(sum)    \n",
    "print(product)    "
   ]
  },
  {
   "cell_type": "markdown",
   "metadata": {},
   "source": [
    "OTHER DENDOR METHODS \n",
    "\n",
    "__str__ and __len__"
   ]
  },
  {
   "cell_type": "code",
   "execution_count": 2,
   "metadata": {},
   "outputs": [
    {
     "ename": "TypeError",
     "evalue": "Number() takes no arguments",
     "output_type": "error",
     "traceback": [
      "\u001b[1;31m---------------------------------------------------------------------------\u001b[0m",
      "\u001b[1;31mTypeError\u001b[0m                                 Traceback (most recent call last)",
      "Cell \u001b[1;32mIn [2], line 14\u001b[0m\n\u001b[0;32m     11\u001b[0m     \u001b[39mdef\u001b[39;00m \u001b[39m__str__\u001b[39m(\u001b[39mself\u001b[39m):\n\u001b[0;32m     12\u001b[0m         \u001b[39mreturn\u001b[39;00m \u001b[39mf\u001b[39m\u001b[39m\"\u001b[39m\u001b[39mDecimal Number: \u001b[39m\u001b[39m{\u001b[39;00m\u001b[39mself\u001b[39m\u001b[39m.\u001b[39mnum\u001b[39m}\u001b[39;00m\u001b[39m\"\u001b[39m     \n\u001b[1;32m---> 14\u001b[0m n3\u001b[39m=\u001b[39mNumber(\u001b[39m8\u001b[39;49m)\n",
      "\u001b[1;31mTypeError\u001b[0m: Number() takes no arguments"
     ]
    }
   ],
   "source": [
    "\n",
    "class Number:\n",
    "    def __int__(self,num):\n",
    "        self.num=num\n",
    "    # def __add__(self,num2):\n",
    "    #     print(\"Add\")\n",
    "    #     return self.num+num2.num\n",
    "    # def __mul__(self,num2):\n",
    "    #     print(\"product\")\n",
    "    #     return num2.num+self.num\n",
    "\n",
    "    def __str__(self):\n",
    "        return f\"Decimal Number: {self.num}\"     \n",
    "\n",
    "n3=Number(8)\n",
    "# print(n)        "
   ]
  },
  {
   "cell_type": "markdown",
   "metadata": {},
   "source": [
    "INHERITANCE QUESTIONS"
   ]
  },
  {
   "cell_type": "code",
   "execution_count": 42,
   "metadata": {},
   "outputs": [
    {
     "name": "stdout",
     "output_type": "stream",
     "text": [
      "5i + 6j + 7k\n"
     ]
    }
   ],
   "source": [
    "# Problem 1\n",
    "class C2dVec:\n",
    "    def __init__(self,i,j):\n",
    "        self.icap=i\n",
    "        self.jcap=j\n",
    "\n",
    "\n",
    "class C3dVec(C2dVec):\n",
    "   def __init__(self,i,j,k):\n",
    "         super().__init__(i,j)\n",
    "         self.kcap=k\n",
    "    \n",
    "       \n",
    "   def __str__(self):\n",
    "        return  f\"{self.icap}i + {self.jcap}j + {self.kcap}k\"     \n",
    "\n",
    "\n",
    "v2d=C2dVec(3,4)\n",
    "v3d=C3dVec(5,6,7)     \n",
    "print(v3d)    "
   ]
  },
  {
   "cell_type": "code",
   "execution_count": 47,
   "metadata": {},
   "outputs": [
    {
     "name": "stdout",
     "output_type": "stream",
     "text": [
      "84000.0\n",
      "0.75\n"
     ]
    }
   ],
   "source": [
    "# Problem 3\n",
    "class Employees:\n",
    "    salary=60000\n",
    "    increment=1.4\n",
    "\n",
    "    @property\n",
    "    def totalSalary(self):\n",
    "       return  self.salary * self.increment \n",
    "    \n",
    "    @totalSalary.setter\n",
    "    def totalSalary(self,sai):\n",
    "        self.increment=sai/self.salary\n",
    "\n",
    "\n",
    "e=Employees()\n",
    "print(e.totalSalary)\n",
    "e.totalSalary=45000\n",
    "print(e.increment)"
   ]
  },
  {
   "cell_type": "code",
   "execution_count": 57,
   "metadata": {},
   "outputs": [
    {
     "name": "stdout",
     "output_type": "stream",
     "text": [
      "332i - 41j\n",
      "183i - 1361j\n"
     ]
    }
   ],
   "source": [
    "# Problem 4\n",
    "class Complex:\n",
    "    def __init__(self,r,i):\n",
    "        self.real=r\n",
    "        self.img=i\n",
    "    def __add__(self,c):\n",
    "             return Complex(self.real+c.real,self.img+c.img)\n",
    "    def __mul__(self,c):\n",
    "            mulreal=(self.real*c.real-self.img*c.img)\n",
    "            mulimg=self.real*c.img + self.img*c.real\n",
    "            return Complex(mulreal,mulimg)\n",
    "    def __str__(self):\n",
    "        if (self.img<0):\n",
    "            return  f\"{self.real}i - {(-1)*self.img}j\"\n",
    "        else:    \n",
    "            return f\"{self.real}i + {self.img}j\"\n",
    "\n",
    "c1=Complex(1,-4)\n",
    "c2=Complex(331,-37)\n",
    "print(c1+c2)\n",
    "print(c1*c2)\n",
    "\n",
    "\n",
    "\n",
    " \n"
   ]
  },
  {
   "cell_type": "code",
   "execution_count": 66,
   "metadata": {},
   "outputs": [
    {
     "name": "stdout",
     "output_type": "stream",
     "text": [
      "0->1\n",
      "1->2\n",
      "2->5\n",
      "3->3\n",
      "4->8\n"
     ]
    }
   ],
   "source": [
    "# Problem 5\n",
    "class Vector:\n",
    "    def __init__(self,vec):\n",
    "        self.vec=vec\n",
    "        # for dimensions in self.vec:\n",
    "        #     print(f\"{dimensions}\",end=\"\\n\")\n",
    "        for i in range(len(self.vec)):\n",
    "            print(f\"{i}->{vec[i]}\")\n",
    "\n",
    "\n",
    "    # def __str__(self):\n",
    "\n",
    "\n",
    "v1=Vector([1,2,5,3,8])        "
   ]
  },
  {
   "cell_type": "code",
   "execution_count": 14,
   "metadata": {},
   "outputs": [
    {
     "name": "stdout",
     "output_type": "stream",
     "text": [
      "6 => a1 \n",
      "8 => a2 \n",
      "9 => a3 \n",
      "8 => a4 \n",
      "11 => a5 \n",
      "12 => a6 \n",
      "14 => a7 \n",
      "\n",
      "166\n"
     ]
    }
   ],
   "source": [
    "# Problem 5 another approach\n",
    "class Vector:\n",
    "    def __init__(self,vec):\n",
    "        self.vec=vec\n",
    "\n",
    "\n",
    "    def __str__(self):\n",
    "        str=\"\"\n",
    "        index=0\n",
    "        for val in self.vec:\n",
    "            index=index+1\n",
    "            str+=f\"{val} => a{index} \\n\"\n",
    "        return str     \n",
    "  \n",
    "\n",
    "    def __add__(self,vec2):\n",
    "        newList=[]\n",
    "        for i in range(len(self.vec)):\n",
    "            newList.append(self.vec[i]+vec2.vec[i])\n",
    "        return Vector(newList)    \n",
    "\n",
    "    def __mul__(self,vec2):\n",
    "            dot_product=0\n",
    "            for i in range(len(self.vec)):\n",
    "                dot_product+=self.vec[i]*vec2.vec[i]\n",
    "            return dot_product    \n",
    "\n",
    "v1=Vector([1,2,6,4,6,6,7])\n",
    "v2=Vector([5,6,3,4,5,6,7])\n",
    "print(v1+v2) \n",
    "print(v1*v2)\n",
    "\n",
    "# 11:25 => getting closer to success"
   ]
  },
  {
   "cell_type": "code",
   "execution_count": 17,
   "metadata": {},
   "outputs": [
    {
     "name": "stdout",
     "output_type": "stream",
     "text": [
      "3i + 45j + 6k\n"
     ]
    }
   ],
   "source": [
    "# Problem 6\n",
    "# __str__ method to print the vector in 3 Dimensions\n",
    "class Print3D(object):\n",
    "    def __init__(self,a,b,c):\n",
    "        self.x=a\n",
    "        self.y=b\n",
    "        self.z=c\n",
    "\n",
    "\n",
    "    def __str__(self):\n",
    "        return f\"{self.x}i + {self.y}j + {self.z}k\"     \n",
    "\n",
    "\n",
    "v1=Print3D(3,45,6)\n",
    "print(v1)        "
   ]
  },
  {
   "cell_type": "code",
   "execution_count": 19,
   "metadata": {},
   "outputs": [
    {
     "name": "stdout",
     "output_type": "stream",
     "text": [
      "1i + 21j + 3k\n"
     ]
    }
   ],
   "source": [
    "# Problem 6 Another method\n",
    "class Print3D(object):\n",
    "    def __init__(self,vec):\n",
    "       self.vec=vec\n",
    "\n",
    "\n",
    "    def __str__(self):\n",
    "        return f\"{self.vec[0]}i + {self.vec[1]}j + {self.vec[2]}k\"     \n",
    "\n",
    "\n",
    "v1=Print3D([1,21,3])\n",
    "print(v1)    "
   ]
  },
  {
   "cell_type": "code",
   "execution_count": 21,
   "metadata": {},
   "outputs": [
    {
     "name": "stdout",
     "output_type": "stream",
     "text": [
      "6 => a1 \n",
      "8 => a2 \n",
      "9 => a3 \n",
      "8 => a4 \n",
      "11 => a5 \n",
      "12 => a6 \n",
      "14 => a7 \n",
      "\n",
      "166\n",
      "7\n"
     ]
    }
   ],
   "source": [
    "# Problem 7\n",
    "# overwrite the __len()__ method in problem 5 for displaying the dimensions of the vector\n",
    "class Vector:\n",
    "    def __init__(self,vec):\n",
    "        self.vec=vec\n",
    "\n",
    "\n",
    "    def __str__(self):\n",
    "        str=\"\"\n",
    "        index=0\n",
    "        for val in self.vec:\n",
    "            index=index+1\n",
    "            str+=f\"{val} => a{index} \\n\"\n",
    "        return str     \n",
    "  \n",
    "\n",
    "    def __add__(self,vec2):\n",
    "        newList=[]\n",
    "        for i in range(len(self.vec)):\n",
    "            newList.append(self.vec[i]+vec2.vec[i])\n",
    "        return Vector(newList)    \n",
    "\n",
    "    def __mul__(self,vec2):\n",
    "            dot_product=0\n",
    "            for i in range(len(self.vec)):\n",
    "                dot_product+=self.vec[i]*vec2.vec[i]\n",
    "            return dot_product    \n",
    "\n",
    "    def __len__(self):\n",
    "          return len(self.vec)\n",
    "      \n",
    "v1=Vector([1,2,6,4,6,6,7])\n",
    "v2=Vector([5,6,3,4,5,6,7])\n",
    "print(v1+v2) \n",
    "print(v1*v2)\n",
    "print(len(v2))"
   ]
  }
 ],
 "metadata": {
  "kernelspec": {
   "display_name": "Python 3.10.7 64-bit",
   "language": "python",
   "name": "python3"
  },
  "language_info": {
   "codemirror_mode": {
    "name": "ipython",
    "version": 3
   },
   "file_extension": ".py",
   "mimetype": "text/x-python",
   "name": "python",
   "nbconvert_exporter": "python",
   "pygments_lexer": "ipython3",
   "version": "3.10.7"
  },
  "orig_nbformat": 4,
  "vscode": {
   "interpreter": {
    "hash": "4ad4152416c9be57e3345f7bf80d67108b3c957628ff06c7bb0aef6813f68dbf"
   }
  }
 },
 "nbformat": 4,
 "nbformat_minor": 2
}
