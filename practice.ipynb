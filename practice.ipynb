{
 "cells": [
  {
   "cell_type": "code",
   "execution_count": 11,
   "metadata": {},
   "outputs": [
    {
     "name": "stdout",
     "output_type": "stream",
     "text": [
      "29\n",
      "False\n",
      "2\n",
      "Story\n",
      "2\n",
      "I for a hero and I for a genuis\n"
     ]
    }
   ],
   "source": [
    "story=\"I am a hero and I am a genuis\"\n",
    "print(len(story))\n",
    "print(story.endswith(\" \"))\n",
    "print(story.count(\"am\"))\n",
    "print(\"story\".capitalize())\n",
    "print(story.find(\"am\"))\n",
    "print(story.replace(\"am\",\"for\"))"
   ]
  },
  {
   "cell_type": "code",
   "execution_count": 17,
   "metadata": {},
   "outputs": [
    {
     "name": "stdout",
     "output_type": "stream",
     "text": [
      "4\n",
      "7\n",
      "(3,)\n"
     ]
    }
   ],
   "source": [
    "t=(1,2,3,5,5,4,4)\n",
    "print(t[5])\n",
    "print(len(t))\n",
    "t2=(3,)\n",
    "print(t2)"
   ]
  },
  {
   "cell_type": "code",
   "execution_count": 20,
   "metadata": {},
   "outputs": [
    {
     "name": "stdout",
     "output_type": "stream",
     "text": [
      "2\n",
      "3\n"
     ]
    }
   ],
   "source": [
    "print(t.count(5))\n",
    "print(t.index(5))"
   ]
  },
  {
   "cell_type": "code",
   "execution_count": 5,
   "metadata": {},
   "outputs": [
    {
     "name": "stdout",
     "output_type": "stream",
     "text": [
      "No\n"
     ]
    }
   ],
   "source": [
    "c=\"string\"\n",
    "if  c in \"String\":\n",
    "    print(\"Yes\")\n",
    "else:\n",
    "    print(\"No\")    "
   ]
  },
  {
   "cell_type": "code",
   "execution_count": 7,
   "metadata": {},
   "outputs": [
    {
     "name": "stdout",
     "output_type": "stream",
     "text": [
      "56\n"
     ]
    }
   ],
   "source": [
    "# Find the maximum number:\n",
    "arr=[]\n",
    "num=0\n",
    "# input of the array\n",
    "for i in range(0,4):\n",
    "    number=int(input())\n",
    "    arr.append(number)\n",
    "\n",
    "# compare the array elements one by one \n",
    "for element in arr:\n",
    "    if(num<element):\n",
    "        num=element \n",
    "print(num)"
   ]
  },
  {
   "cell_type": "code",
   "execution_count": 10,
   "metadata": {},
   "outputs": [
    {
     "name": "stdout",
     "output_type": "stream",
     "text": [
      "I am a\n"
     ]
    }
   ],
   "source": [
    "file=open(\"./dummy/donkey.txt\",\"r\")\n",
    "data=file.read(6)\n",
    "print(data)\n",
    "file.close()"
   ]
  },
  {
   "cell_type": "code",
   "execution_count": 1,
   "metadata": {},
   "outputs": [
    {
     "name": "stdout",
     "output_type": "stream",
     "text": [
      "The salary of the man is 5000\n"
     ]
    }
   ],
   "source": [
    "class Employees(object):\n",
    "    company=\"Google\"\n",
    "    age=34\n",
    "    def getSalary(self,salary):\n",
    "        print(f\"The salary of the man is {salary}\")\n",
    "\n",
    "harry=Employees()\n",
    "harry.getSalary(5000)        "
   ]
  },
  {
   "cell_type": "code",
   "execution_count": null,
   "metadata": {},
   "outputs": [],
   "source": [
    "class Animals(object):\n",
    "    type=\"domestic\"\n",
    "    def __init__(self,color,species):\n",
    "        self.color=color\n",
    "        self.species=species\n",
    "        "
   ]
  },
  {
   "cell_type": "code",
   "execution_count": 6,
   "metadata": {},
   "outputs": [
    {
     "ename": "TypeError",
     "evalue": "number() takes no arguments",
     "output_type": "error",
     "traceback": [
      "\u001b[1;31m---------------------------------------------------------------------------\u001b[0m",
      "\u001b[1;31mTypeError\u001b[0m                                 Traceback (most recent call last)",
      "Cell \u001b[1;32mIn [6], line 14\u001b[0m\n\u001b[0;32m     11\u001b[0m     \u001b[39mdef\u001b[39;00m \u001b[39m__str__\u001b[39m(\u001b[39mself\u001b[39m):\n\u001b[0;32m     12\u001b[0m         \u001b[39mreturn\u001b[39;00m \u001b[39mf\u001b[39m\u001b[39m\"\u001b[39m\u001b[39mDecimal Number: \u001b[39m\u001b[39m{\u001b[39;00m\u001b[39mself\u001b[39m\u001b[39m.\u001b[39mnum\u001b[39m}\u001b[39;00m\u001b[39m\"\u001b[39m     \n\u001b[1;32m---> 14\u001b[0m n3\u001b[39m=\u001b[39mnumber(\u001b[39m4\u001b[39;49m)\n",
      "\u001b[1;31mTypeError\u001b[0m: number() takes no arguments"
     ]
    }
   ],
   "source": [
    "class number:\n",
    "    def __int__(self,num):\n",
    "        self.num=num\n",
    "    # def __add__(self,num2):\n",
    "    #     print(\"Add\")\n",
    "    #     return self.num+num2.num\n",
    "    # def __mul__(self,num2):\n",
    "    #     print(\"product\")\n",
    "    #     return num2.num+self.num\n",
    "\n",
    "    def __str__(self):\n",
    "        return f\"Decimal Number: {self.num}\"     \n",
    "\n",
    "n3=number(4)"
   ]
  }
 ],
 "metadata": {
  "kernelspec": {
   "display_name": "Python 3.10.7 64-bit",
   "language": "python",
   "name": "python3"
  },
  "language_info": {
   "codemirror_mode": {
    "name": "ipython",
    "version": 3
   },
   "file_extension": ".py",
   "mimetype": "text/x-python",
   "name": "python",
   "nbconvert_exporter": "python",
   "pygments_lexer": "ipython3",
   "version": "3.10.7"
  },
  "orig_nbformat": 4,
  "vscode": {
   "interpreter": {
    "hash": "4ad4152416c9be57e3345f7bf80d67108b3c957628ff06c7bb0aef6813f68dbf"
   }
  }
 },
 "nbformat": 4,
 "nbformat_minor": 2
}
