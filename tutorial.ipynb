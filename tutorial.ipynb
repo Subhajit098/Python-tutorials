{
 "cells": [
  {
   "cell_type": "code",
   "execution_count": 2,
   "metadata": {},
   "outputs": [
    {
     "name": "stdout",
     "output_type": "stream",
     "text": [
      "  \"Harry\n",
      "is \n",
      "a \n",
      "good\n",
      "boy\"   *_* \n",
      "True\n",
      "None\n",
      "<class 'int'>\n"
     ]
    }
   ],
   "source": [
    "a=9\n",
    "str='''  \"Harry\n",
    "is \n",
    "a \n",
    "good\n",
    "boy\"   *_* '''\n",
    "print(str)\n",
    "bool=True\n",
    "print(bool);\n",
    "d=None\n",
    "print(d)\n",
    "print(type(a))"
   ]
  },
  {
   "cell_type": "code",
   "execution_count": 1,
   "metadata": {},
   "outputs": [
    {
     "name": "stdout",
     "output_type": "stream",
     "text": [
      "the value of 3+4 is : 7\n",
      "The value of bool1 and bool2 is False\n",
      "The value of bool1 and bool2 is True\n",
      "The value of bool1 and bool2 is True\n"
     ]
    }
   ],
   "source": [
    "print(\"the value of 3+4 is :\",3+4)\n",
    "bool1=True\n",
    "bool2=False\n",
    "print(\"The value of bool1 and bool2 is\",(bool1 & bool2))  #(bool1 and bool2)\n",
    "print(\"The value of bool1 and bool2 is\",(bool1 | bool2))  #(bool1 or bool2)\n",
    "print(\"The value of bool1 and bool2 is\",(not bool2))"
   ]
  },
  {
   "cell_type": "code",
   "execution_count": 2,
   "metadata": {},
   "outputs": [
    {
     "name": "stdout",
     "output_type": "stream",
     "text": [
      "<class 'str'>\n",
      "<class 'int'>\n",
      "6578.0\n"
     ]
    }
   ],
   "source": [
    "# Type casting \n",
    "a=\"6578\"\n",
    "print(type(a))\n",
    "a=int(a)\n",
    "print(type(a))\n",
    "a=float(a)\n",
    "print(a)"
   ]
  },
  {
   "cell_type": "code",
   "execution_count": 2,
   "metadata": {},
   "outputs": [
    {
     "name": "stdout",
     "output_type": "stream",
     "text": [
      "<class 'str'>\n",
      "fasd\n",
      "fdsasd\n"
     ]
    }
   ],
   "source": [
    "# Input function\n",
    "a=input(\"Enter your age:\")\n",
    "print(type(a))\n",
    "print(a)\n",
    "name=input()\n",
    "print(name)\n",
    "# input function always takes a string as an input\n"
   ]
  },
  {
   "cell_type": "code",
   "execution_count": 1,
   "metadata": {},
   "outputs": [
    {
     "name": "stdout",
     "output_type": "stream",
     "text": [
      "hello Harry\n",
      "y\n",
      "Har\n",
      "Har\n",
      "ry\n",
      "Harry\n"
     ]
    }
   ],
   "source": [
    "# String slicing\n",
    "name=\"Harry\"\n",
    "greeting=\"hello \"\n",
    "c=greeting+name\n",
    "print(c)\n",
    "print(name[-1])\n",
    "#   H   a    r   r   y\n",
    "#   0   1    2   3   4\n",
    "#  -5  -4   -3  -2   -1\n",
    "# name[3]=\"d\" does not work i.e, assigning\n",
    "print(name[0:3])\n",
    "# prints except the value at index 3\n",
    "print(name[:3]) # same as name[0:3]\n",
    "print(name[3:5]) # will print 3 to last index;\n",
    "print(name[3:]) # same as the above one 3:5\n",
    "print(name[:5])"
   ]
  },
  {
   "cell_type": "code",
   "execution_count": 2,
   "metadata": {},
   "outputs": [
    {
     "name": "stdout",
     "output_type": "stream",
     "text": [
      "Imod\n",
      "moo\n"
     ]
    }
   ],
   "source": [
    "# Slicing with skip value\n",
    "name= \"IamGood\"\n",
    "print(name[0::2])\n",
    "name=\"IamGoodtoGo\"\n",
    "print(name[2:12:3])\n",
    "# 2:06:00)"
   ]
  },
  {
   "cell_type": "code",
   "execution_count": 29,
   "metadata": {},
   "outputs": [
    {
     "name": "stdout",
     "output_type": "stream",
     "text": [
      "47\n",
      "False\n",
      "True\n",
      "0\n",
      "3\n",
      "Once in a village, upon there was a aladin lion\n",
      "once in a village, upon there was a aladin lion\n",
      "19\n",
      "once for a village, upon there was a aladfor lion\n"
     ]
    }
   ],
   "source": [
    "# String functions\n",
    "story=\"once in a village, upon there was a aladin lion\"\n",
    "print(len(story))\n",
    "# sting.endswith()\n",
    "# returns true if the current string ends with the argument mentioned in the endswith() function\n",
    "print(story.endswith(\"hello\"))\n",
    "print(story.endswith(\"lion\"))\n",
    "# string.count\n",
    "print(story.count(\"On\"))\n",
    "print(story.count(\"o\"))\n",
    "# String.capitalize\n",
    "# Just capitalizes the first charater of the string\n",
    "print(story.capitalize())\n",
    "# story.capitalize() generates a copy of the string updating it without affecting the original string\n",
    "print(story)\n",
    "# string.find(word)\n",
    "# This function finds a word and returns the index of the first occurence of that word in the string.\n",
    "# returns -1 if nothing is present\n",
    "print(story.find(\"upon\"))\n",
    "# String.replace(oldername,newname)\n",
    "# replaces the old occurences of all substring in the string\n",
    "print(story.replace(\"in\",\"for\"))\n",
    "# story.replace() generates a copy of the string updating it without affecting the original string"
   ]
  },
  {
   "cell_type": "code",
   "execution_count": 30,
   "metadata": {},
   "outputs": [
    {
     "name": "stdout",
     "output_type": "stream",
     "text": [
      "Harry is good.\n",
      "He \tis also \\ smart\n"
     ]
    }
   ],
   "source": [
    "# Escape sequences\n",
    "# sequence of character after backslash :- \\n \\t \\ \\\\etc\n",
    "# a=\"hello dear.\n",
    "# how are you?\"\n",
    "# Python doesnt allows us to write strings like this\n",
    "story=\"Harry is good.\\nHe \\tis also \\\\ smart\"\n",
    "print(story)"
   ]
  },
  {
   "cell_type": "code",
   "execution_count": 31,
   "metadata": {},
   "outputs": [
    {
     "name": "stdout",
     "output_type": "stream",
     "text": [
      "[1, 2, 3, 4]\n",
      "[1, 2, 0, 4]\n",
      "[3, 5.6, 'story', False]\n"
     ]
    }
   ],
   "source": [
    "# Lists and Tuples\n",
    "# Python lists are containers to store a set of values of any data type. Basically lists are arrays\n",
    "# Create a list using []\n",
    "a=[1,2,3,4]\n",
    "# here a is a list\n",
    "print(a)\n",
    "# list elements can be reassingned\n",
    "a[2]=0\n",
    "print(a)\n",
    "# We can create list with different types\n",
    "b=[3,5.6,\"story\",False]\n",
    "print(b)"
   ]
  },
  {
   "cell_type": "code",
   "execution_count": 3,
   "metadata": {},
   "outputs": [
    {
     "name": "stdout",
     "output_type": "stream",
     "text": [
      "['riya', 'sonu']\n",
      "u\n"
     ]
    }
   ],
   "source": [
    "# list slicing\n",
    "friends=[\"rita\",\"riya\",\"sonu\",\"lazy\",56]\n",
    "print(friends[1:3])\n",
    "print(friends[2][3])"
   ]
  },
  {
   "cell_type": "code",
   "execution_count": 4,
   "metadata": {},
   "outputs": [
    {
     "name": "stdout",
     "output_type": "stream",
     "text": [
      "[1, 2, 4, 34, 56]\n",
      "[56, 34, 4, 2, 1]\n",
      "[56, 34, 4, 2, 1, [45, 67], 45]\n",
      "[56, 34, 2, 1, [45, 67], 45]\n",
      "[56, 2, 1, [45, 67], 45]\n"
     ]
    },
    {
     "ename": "TypeError",
     "evalue": "unsupported operand type(s) for +: 'int' and 'list'",
     "output_type": "error",
     "traceback": [
      "\u001b[1;31m---------------------------------------------------------------------------\u001b[0m",
      "\u001b[1;31mTypeError\u001b[0m                                 Traceback (most recent call last)",
      "Cell \u001b[1;32mIn [4], line 20\u001b[0m\n\u001b[0;32m     18\u001b[0m \u001b[39mprint\u001b[39m(l1)\n\u001b[0;32m     19\u001b[0m \u001b[39m# for calculating the sum of elements in the list\u001b[39;00m\n\u001b[1;32m---> 20\u001b[0m \u001b[39mprint\u001b[39m(\u001b[39msum\u001b[39;49m(l1))\n",
      "\u001b[1;31mTypeError\u001b[0m: unsupported operand type(s) for +: 'int' and 'list'"
     ]
    }
   ],
   "source": [
    "# List methods\n",
    "l1=[2,4,56,34,1]\n",
    "# l1.sort()\n",
    "# sorts the original list\n",
    "l1.sort()\n",
    "print(l1)\n",
    "l1.reverse()\n",
    "# reverses the whole string\n",
    "print(l1)\n",
    "# l1.append(45) adds at the end of the list\n",
    "l1.append(67)\n",
    "l1.append(45)\n",
    "print(l1)\n",
    "# l1.insert(3,67) inserts 67 at index 3 and pushes the original element on the next index.\n",
    "l1.pop(2) # removes the element from the 2 index\n",
    "print(l1)\n",
    "l1.remove(34) # removes 34 from the list\n",
    "print(l1)\n",
    "# for calculating the sum of elements in the list\n",
    "print(sum(l1))\n",
    "# 2:58:00"
   ]
  },
  {
   "cell_type": "code",
   "execution_count": null,
   "metadata": {},
   "outputs": [
    {
     "name": "stdout",
     "output_type": "stream",
     "text": [
      "(1, 2, 3, 4)\n",
      "()\n",
      "(3,)\n"
     ]
    }
   ],
   "source": [
    "# Tuple\n",
    "# We create a tuple using ()\n",
    "t=(1,2,3,4)\n",
    "# differecne between tuple and lists are that we cannot update tuple elements as we can do in the lists\n",
    "# That is a tuple is immutable\n",
    "# Only tuple.count()  and  tuple.index() are the methods in tuple\n",
    "# t[0]=34\n",
    "print(t)\n",
    "# declaring an empty tuple\n",
    "t1=()\n",
    "print(t1)\n",
    "# declaring a tuple with only one single element.\n",
    "t2=(3,)\n",
    "print(t2)"
   ]
  },
  {
   "cell_type": "code",
   "execution_count": null,
   "metadata": {},
   "outputs": [
    {
     "name": "stdout",
     "output_type": "stream",
     "text": [
      "2\n",
      "2\n"
     ]
    }
   ],
   "source": [
    "# Tuple methods\n",
    "t3=(1,2,3,5,6,3)\n",
    "# tuple.count()\n",
    "# gives the number of occurences of the element\n",
    "print(t3.count(3))\n",
    "# gives the first occurenece of the variable\n",
    "# t3.index()\n",
    "print(t3.index(3))\n"
   ]
  },
  {
   "cell_type": "code",
   "execution_count": 6,
   "metadata": {},
   "outputs": [
    {
     "name": "stdout",
     "output_type": "stream",
     "text": [
      "riya sick\n",
      "riya\n",
      "sick\n",
      "[1, 2, 3]\n",
      "{'harry': 'coder'}\n",
      "coder\n",
      "6\n"
     ]
    }
   ],
   "source": [
    "# Dictionary and Sets\n",
    "# Dictionary is a collection of key and value pair\n",
    "myDict={\n",
    "    \"girl\":\"riya\",\n",
    "   \"abc\":\"sick\",\n",
    "   \"marks\":[1,2,3],\n",
    "   \"anotherDict\":{\"harry\":\"coder\"}\n",
    "}\n",
    "\n",
    "# Looping through Dictionary:\n",
    "for key,value in myDict.items():\n",
    "    print(f\"{key} : {value}\")\n",
    "\n",
    "# For printing the keys use myDict.keys()\n",
    "# For printing the values use myDict.values() \n",
    "\n",
    "print(myDict[\"girl\"],myDict[\"abc\"])\n",
    "print(myDict[\"girl\"])\n",
    "print(myDict[\"abc\"])\n",
    "print(myDict[\"marks\"])\n",
    "print(myDict[\"anotherDict\"])\n",
    "print(myDict[\"anotherDict\"][\"harry\"])\n",
    "# Dictionary is mutable and unordered\n",
    "# It is indexed\n",
    "# no two keys can be identical\n",
    "myDict[\"marks\"]=[4,5,6]\n",
    "print(myDict[\"marks\"][2])\n"
   ]
  },
  {
   "cell_type": "code",
   "execution_count": 10,
   "metadata": {},
   "outputs": [
    {
     "name": "stdout",
     "output_type": "stream",
     "text": [
      "dict_keys(['girl', 'abc', 'marks', 'anotherDict', 1])\n",
      "<class 'dict_keys'>\n",
      "['girl', 'abc', 'marks', 'anotherDict', 1]\n",
      "dict_values(['riya', 'sick', [1, 2, 3], {'harry': 'coder'}, 2])\n",
      "dict_items([('girl', 'riya'), ('abc', 'sick'), ('marks', [1, 2, 3]), ('anotherDict', {'harry': 'coder'}), (1, 2)])\n",
      "{'girl': 'riya', 'abc': 'kill', 'marks': [1, 2, 3], 'anotherDict': {'harry': 'coder'}, 1: 2, 'lovish': 'friend', 'divya': 'friend'}\n",
      "None\n"
     ]
    }
   ],
   "source": [
    "# Dictionary  methods\n",
    "myDict={\n",
    "    \"girl\":\"riya\",\n",
    "   \"abc\":\"sick\",\n",
    "   \"marks\":[1,2,3],\n",
    "   \"anotherDict\":{\"harry\":\"coder\"},\n",
    "   1:2\n",
    "}\n",
    "#for printing all the keys in the form of a list(but these are not list), we have\n",
    "print(myDict.keys())\n",
    "print(type(myDict.keys()))\n",
    "print(list(myDict.keys()))\n",
    "print(myDict.values())\n",
    "# print(list(myDict.values()))\n",
    "\n",
    "# We can also create a new key and value pair\n",
    "myDict[\"work\"]=\"SDE\"\n",
    "\n",
    "# for Deleting a key in dictionary use the \"del\" keyword\n",
    "del myDict[\"anotherDict\"]\n",
    "\n",
    "# for getting the key and value pair in the form of tuples we have\n",
    "print(myDict.items())\n",
    "\n",
    "# For adding(or updating) key and value pairs in the dictionary\n",
    "updateDict={\n",
    "    \"lovish\":\"friend\",\n",
    "    \"divya\":\"friend\",\n",
    "    \"abc\":\"kill\"\n",
    "}\n",
    "myDict.update(updateDict)\n",
    "print(myDict)\n",
    "\n",
    "print(myDict.get(\"harry2\")) # returns a none object as harry2 is not present\n",
    "# print(myDict[\"harry2\"])  # throws error as the element is not present inside the myDict dictionary"
   ]
  },
  {
   "cell_type": "code",
   "execution_count": 13,
   "metadata": {},
   "outputs": [
    {
     "name": "stdout",
     "output_type": "stream",
     "text": [
      "{32, 2, 23, 56, 89}\n",
      "<class 'set'>\n",
      "{2, 4, 5, 'string'}\n"
     ]
    }
   ],
   "source": [
    "# Set : its a collection of non-repetative elements\n",
    "# Sets doesn't stores the elements in any order.\n",
    "a={2,23,56,89,2,32} \n",
    "print(a)\n",
    "# for creating a empty set dont use {} as it creates an empty dictionary.But for empty sets\n",
    "b=set()\n",
    "print(type(b))\n",
    "# for adding elements in the empty set\n",
    "b.add(4)\n",
    "b.add(5)\n",
    "b.add(2)\n",
    "b.add(\"string\")\n",
    "# We cannot add list and dictionary in the set as its not hashable(i.e, the contents of the list and dictionaries can be changed)\n",
    "print(b)\n",
    "# Sets are unordered\n",
    "# sets are not indexed\n",
    "# Sets always stores unique elements\n",
    "# there are no ways to change the items inside a set\n",
    "#sets cannot contain duplicate values\n",
    " "
   ]
  },
  {
   "cell_type": "code",
   "execution_count": 22,
   "metadata": {},
   "outputs": [
    {
     "name": "stdout",
     "output_type": "stream",
     "text": [
      "4\n",
      "{2, 4, 5, 'string'}\n",
      "{2, 5, 'string'}\n",
      "2\n",
      "{5, 'string'}\n"
     ]
    }
   ],
   "source": [
    "# Properties of sets  \n",
    "print(len(b))\n",
    "# For removing an element inside the set\n",
    "# b.remove(\"string\")\n",
    "print(b)\n",
    "a=b.copy()\n",
    "a.remove(4)\n",
    "print(a)\n",
    "print(a.pop())\n",
    "print(a)\n",
    "# To remove an arbitrary element from the set and return the element removed\n",
    "# b.pop()\n",
    "\n",
    "# for clearing the whole set\n",
    "# b.clear()\n",
    "# print(b)"
   ]
  },
  {
   "cell_type": "code",
   "execution_count": null,
   "metadata": {},
   "outputs": [],
   "source": [
    "# conditional Statements\n",
    "# Syntax\n",
    "    # if(condition 1):\n",
    "    # print(\"yes\")\n",
    "    # elif(condition 2):\n",
    "    # print(\"no\")\n",
    "    # else :\n",
    "    # print(\"maybe\")"
   ]
  },
  {
   "cell_type": "code",
   "execution_count": null,
   "metadata": {},
   "outputs": [
    {
     "name": "stdout",
     "output_type": "stream",
     "text": [
      "yes\n"
     ]
    }
   ],
   "source": [
    "age=int(input())\n",
    "if age>=18 :\n",
    "    print(\"yes\")\n",
    "elif age==18:\n",
    "    print(\"maybe\")  \n",
    "else:\n",
    "    print(\"no\")"
   ]
  },
  {
   "cell_type": "code",
   "execution_count": null,
   "metadata": {},
   "outputs": [
    {
     "name": "stdout",
     "output_type": "stream",
     "text": [
      "You can work with us\n"
     ]
    }
   ],
   "source": [
    "age=67\n",
    "if(age>34 or age<56):\n",
    "    print(\"You can work with us\")\n",
    "else:\n",
    "    print(\"cant work\")\n"
   ]
  },
  {
   "cell_type": "code",
   "execution_count": null,
   "metadata": {},
   "outputs": [
    {
     "name": "stdout",
     "output_type": "stream",
     "text": [
      "No\n",
      "is present\n"
     ]
    }
   ],
   "source": [
    "# in or is\n",
    "if(a is None):\n",
    "    print(\"Yes\")\n",
    "else:\n",
    "    print(\"No\")\n",
    "\n",
    "    # Here a and None points to the same object \"None\"\n",
    "\n",
    "\n",
    "# in\n",
    "a=[45,56,6]\n",
    "if (45 in a):\n",
    "    print(\"is present\")\n",
    "else:\n",
    "    print(\"Not Present\")\n"
   ]
  },
  {
   "cell_type": "code",
   "execution_count": null,
   "metadata": {},
   "outputs": [
    {
     "name": "stdout",
     "output_type": "stream",
     "text": [
      "4 is greatest\n"
     ]
    }
   ],
   "source": [
    "# if else questions\n",
    "# Given four numbers , find the max number\n",
    "num1=int(input())\n",
    "num2=int(input())\n",
    "num3=int(input())\n",
    "num4=int(input())\n",
    "if(num1>num2):\n",
    "    f1=num1;\n",
    "else:\n",
    "    f1=num2\n",
    "\n",
    "if(num3>num4):\n",
    "    f2=num3\n",
    "else:\n",
    "    f2=num4\n",
    "\n",
    "if(f1>f2):\n",
    "    print(str(f1) + \" is greatest\")\n",
    "else:\n",
    "    print(str(f2) + \" is greatest\")"
   ]
  },
  {
   "cell_type": "code",
   "execution_count": null,
   "metadata": {},
   "outputs": [
    {
     "name": "stdout",
     "output_type": "stream",
     "text": [
      "Not present\n"
     ]
    }
   ],
   "source": [
    "name=(input())\n",
    "list=[\"harry\",\"tushar\",\"halo\"]\n",
    "if name in list:\n",
    "    print(\"is present\")\n",
    "else: \n",
    "    print(\"Not present\")\n",
    "\n",
    "    # 5:07"
   ]
  },
  {
   "cell_type": "code",
   "execution_count": null,
   "metadata": {},
   "outputs": [
    {
     "name": "stdout",
     "output_type": "stream",
     "text": [
      "True\n"
     ]
    }
   ],
   "source": [
    "# pr_07_conditional_statements\n",
    "name=input()\n",
    "name=name.lower()\n",
    "if \"harry\" in name:\n",
    "    print(\"True\")\n",
    "else:\n",
    "    print(\"None\")"
   ]
  },
  {
   "cell_type": "code",
   "execution_count": null,
   "metadata": {},
   "outputs": [
    {
     "name": "stdout",
     "output_type": "stream",
     "text": [
      "True\n",
      "True\n",
      "True\n",
      "True\n",
      "True\n",
      "True\n",
      "True\n",
      "True\n",
      "True\n",
      "True\n"
     ]
    }
   ],
   "source": [
    "# Chapter 7: Loops in python \n",
    "\n",
    "\n",
    "# While Loop in python\n",
    "i=0\n",
    "\n",
    "while i<10:\n",
    "    i=i+1\n",
    "    print(\"True\")"
   ]
  },
  {
   "cell_type": "code",
   "execution_count": null,
   "metadata": {},
   "outputs": [
    {
     "name": "stdout",
     "output_type": "stream",
     "text": [
      "Banana\n",
      "Watermelon\n",
      "Mango\n",
      "Apple\n",
      "0\n",
      "1\n",
      "2\n",
      "3\n",
      "4\n",
      "5\n",
      "6\n",
      "7\n"
     ]
    }
   ],
   "source": [
    "fruits=[\"Banana\",\"Watermelon\",\"Mango\",\"Apple\"]\n",
    "# i=0\n",
    "for i in fruits:\n",
    "    print(i)\n",
    "\n",
    "    # Range function in python\n",
    "    # It is used to generate a sequence of numbers\n",
    "    # we can also specify the start,stop and step-size as follows:\n",
    "    # range(start,stop,step-size)\n",
    "    # default value of range starts form 0 and ends with n-1 \n",
    "\n",
    "for i in range(8):\n",
    "     print(i)\n"
   ]
  },
  {
   "cell_type": "code",
   "execution_count": 1,
   "metadata": {},
   "outputs": [
    {
     "name": "stdout",
     "output_type": "stream",
     "text": [
      "1\n",
      "2\n",
      "3\n",
      "This is inside else of for\n"
     ]
    }
   ],
   "source": [
    "# for loop with else\n",
    "# an optional else can be used with a for loop if the code is to be executed when the loop exhausts\n",
    "# Syntax:\n",
    "l=[1,2,3]\n",
    "for item in l:\n",
    "  print(item)\n",
    "else:\n",
    " print(\"This is inside else of for\") "
   ]
  },
  {
   "cell_type": "code",
   "execution_count": null,
   "metadata": {},
   "outputs": [
    {
     "name": "stdout",
     "output_type": "stream",
     "text": [
      "0\n",
      "1\n",
      "2\n",
      "3\n",
      "4\n",
      "5\n"
     ]
    }
   ],
   "source": [
    "# Break statement in loop\n",
    "# It is used to come out of the loop when encountered.It instructs the program to Exit the loop instantly\n",
    "for i in range(10):\n",
    "    print(i)\n",
    "    if i==5:\n",
    "       break"
   ]
  },
  {
   "cell_type": "code",
   "execution_count": null,
   "metadata": {},
   "outputs": [],
   "source": [
    "# difference b/w else in for loop and break in loop \n",
    "# else in for loop executes when the loop is successfully executed but break is used for termination in any instance of the loop we want."
   ]
  },
  {
   "cell_type": "code",
   "execution_count": null,
   "metadata": {},
   "outputs": [
    {
     "name": "stdout",
     "output_type": "stream",
     "text": [
      "0\n",
      "1\n",
      "2\n",
      "3\n",
      "4\n",
      "6\n",
      "7\n",
      "8\n",
      "9\n"
     ]
    }
   ],
   "source": [
    "# Continue statement \n",
    "# It is used to stop the current iteration of the loop and continue with the next one . It instructs the program to skip the iteration.\n",
    "for i in range(10):\n",
    "    if i==5:\n",
    "        continue\n",
    "    print(i)"
   ]
  },
  {
   "cell_type": "code",
   "execution_count": null,
   "metadata": {},
   "outputs": [
    {
     "name": "stdout",
     "output_type": "stream",
     "text": [
      "hello\n"
     ]
    }
   ],
   "source": [
    "# pass statement.\n",
    "i=4\n",
    "if i>0:\n",
    "    pass\n",
    "# Pass is a null statement\n",
    "# Pass means do nothing to the for the current instruction and jump to the next instruction\n",
    "print(\"hello\")\n",
    "\n",
    "# It can be used in loop , if-else statements,funtions,etc\n"
   ]
  },
  {
   "cell_type": "code",
   "execution_count": null,
   "metadata": {},
   "outputs": [
    {
     "name": "stdout",
     "output_type": "stream",
     "text": [
      "4 is an even number\n"
     ]
    }
   ],
   "source": [
    "# writing with the f strings\n",
    "print(f\"{i} is an even number\")"
   ]
  },
  {
   "cell_type": "markdown",
   "metadata": {},
   "source": [
    "Loops questions"
   ]
  },
  {
   "cell_type": "code",
   "execution_count": null,
   "metadata": {},
   "outputs": [
    {
     "name": "stdout",
     "output_type": "stream",
     "text": [
      "3 * 1 = 3\n",
      "3 * 2 = 6\n",
      "3 * 3 = 9\n",
      "3 * 4 = 12\n",
      "3 * 5 = 15\n",
      "3 * 6 = 18\n",
      "3 * 7 = 21\n",
      "3 * 8 = 24\n",
      "3 * 9 = 27\n",
      "3 * 10 = 30\n"
     ]
    }
   ],
   "source": [
    "# multiplication table\n",
    "num=int(input())\n",
    "for i in range(1,11):\n",
    "    print(f\"{num} * {i} = {num*i}\")"
   ]
  },
  {
   "cell_type": "code",
   "execution_count": null,
   "metadata": {},
   "outputs": [
    {
     "name": "stdout",
     "output_type": "stream",
     "text": [
      "Hello Sohan\n",
      "Hello Sachin\n"
     ]
    }
   ],
   "source": [
    "l1=[\"Harry\",\"Sohan\",\"Sachin\",\"Rahul\"]\n",
    "\n",
    "for name in l1:\n",
    "    if name.startswith(\"S\"):\n",
    "        print(f\"Hello {name}\")"
   ]
  },
  {
   "cell_type": "code",
   "execution_count": null,
   "metadata": {},
   "outputs": [
    {
     "name": "stdout",
     "output_type": "stream",
     "text": [
      "Not prime\n"
     ]
    }
   ],
   "source": [
    "# Number is prime or not\n",
    "num=int(input())\n",
    "prime=True\n",
    "for i in range(2,num):\n",
    "    if(num%i==0):\n",
    "     prime=False\n",
    "     break\n",
    "\n",
    "\n",
    "if prime:\n",
    "    print(\"prime\")\n",
    "\n",
    "else:\n",
    "    print(\"Not prime\")"
   ]
  },
  {
   "cell_type": "code",
   "execution_count": null,
   "metadata": {},
   "outputs": [
    {
     "name": "stdout",
     "output_type": "stream",
     "text": [
      "55\n"
     ]
    }
   ],
   "source": [
    "# finding the sum of first n natural numbers\n",
    "num=int(input())\n",
    "sum=0\n",
    "for t in range(0,num+1):\n",
    "    sum=sum+t\n",
    "\n",
    "print(sum)    "
   ]
  },
  {
   "cell_type": "code",
   "execution_count": null,
   "metadata": {},
   "outputs": [
    {
     "name": "stdout",
     "output_type": "stream",
     "text": [
      "120\n"
     ]
    }
   ],
   "source": [
    "# factorial of a number\n",
    "num=int(input())\n",
    "factorial=1\n",
    "for i in range(1,num+1):\n",
    "    factorial=factorial*i\n",
    "print(factorial)    "
   ]
  },
  {
   "cell_type": "code",
   "execution_count": null,
   "metadata": {},
   "outputs": [
    {
     "name": "stdout",
     "output_type": "stream",
     "text": [
      "*\n",
      "**\n",
      "***\n",
      "****\n"
     ]
    }
   ],
   "source": [
    "# Pattern printing\n",
    "n=4\n",
    "for i in range(4):\n",
    " print(\"*\" * (i+1))"
   ]
  },
  {
   "cell_type": "code",
   "execution_count": 5,
   "metadata": {},
   "outputs": [
    {
     "name": "stdout",
     "output_type": "stream",
     "text": [
      "      *\n",
      "     ***\n",
      "    *****\n",
      "   *******\n",
      "  *********\n",
      " ***********\n"
     ]
    }
   ],
   "source": [
    "# spaces and stars\n",
    "# stars=2*i + 1,i in range(0,3)\n",
    "num=int(input())\n",
    "for i in range(0,num):\n",
    "    print(\" \" *(num-i-1),end=\" \")\n",
    "    print(\"*\" * (2*i+1))\n",
    "    # print(\" \" *(num-i-1))"
   ]
  },
  {
   "cell_type": "code",
   "execution_count": 35,
   "metadata": {},
   "outputs": [
    {
     "name": "stdout",
     "output_type": "stream",
     "text": [
      "*   *   *\n",
      "  *   * \n",
      "*   *   *\n",
      "  *   * \n"
     ]
    }
   ],
   "source": [
    "# Printing stars at the corners\n",
    "num=int(input())\n",
    "for i in range(0,n):\n",
    "    if(i%2==0):\n",
    "        print(\"*   *   *\")\n",
    "    else:\n",
    "        print(\"  *   * \")"
   ]
  },
  {
   "cell_type": "code",
   "execution_count": 6,
   "metadata": {},
   "outputs": [
    {
     "name": "stdout",
     "output_type": "stream",
     "text": [
      "10\n",
      "8\n",
      "6\n",
      "4\n",
      "2\n"
     ]
    }
   ],
   "source": [
    "i=0\n",
    "for i in range(10,0,-2):\n",
    "    print(i)"
   ]
  },
  {
   "cell_type": "code",
   "execution_count": 46,
   "metadata": {},
   "outputs": [
    {
     "name": "stdout",
     "output_type": "stream",
     "text": [
      "22.5\n"
     ]
    }
   ],
   "source": [
    "# function\n",
    "def function(parameters):\n",
    "# instructions\n",
    " p=4\n",
    " return p  \n",
    "\n",
    "\n",
    "marks=90\n",
    "print(marks/function(marks))\n"
   ]
  },
  {
   "cell_type": "code",
   "execution_count": 51,
   "metadata": {},
   "outputs": [
    {
     "name": "stdout",
     "output_type": "stream",
     "text": [
      "Greet harry\n"
     ]
    }
   ],
   "source": [
    "def greet(name):\n",
    "    print(\"Greet \"+name)\n",
    "\n",
    "greet(\"harry\")"
   ]
  },
  {
   "cell_type": "code",
   "execution_count": 53,
   "metadata": {},
   "outputs": [
    {
     "name": "stdout",
     "output_type": "stream",
     "text": [
      "Hello Stranger\n",
      "Hello Harry\n"
     ]
    }
   ],
   "source": [
    "# default parameter in the function\n",
    "# if no argument is passed in the function the default value in the parameter will be taken for executing the function\n",
    "def greet(name=\"Stranger\"):\n",
    "    return (\"Hello \"+ name)\n",
    "\n",
    "print(greet())\n",
    "print(greet(\"Harry\"))"
   ]
  },
  {
   "cell_type": "code",
   "execution_count": 59,
   "metadata": {},
   "outputs": [
    {
     "name": "stdout",
     "output_type": "stream",
     "text": [
      "7\n"
     ]
    }
   ],
   "source": [
    "# functions and recursions\n",
    "# compare three numbers\n",
    "def maximum(num1,num2,num3):\n",
    "    if num1>=num2:\n",
    "        if num1>=num3:\n",
    "         return num1\n",
    "        else:\n",
    "            return num3\n",
    "\n",
    "    else:\n",
    "        if num2>=num3:\n",
    "            return num2\n",
    "        else:\n",
    "            return num3\n",
    "print(maximum(3,4,7))                     "
   ]
  },
  {
   "cell_type": "code",
   "execution_count": null,
   "metadata": {},
   "outputs": [],
   "source": [
    "# to prevent print function to print in a new line use the parameter end=\"\",by default end has the value of \\n"
   ]
  },
  {
   "cell_type": "code",
   "execution_count": 2,
   "metadata": {},
   "outputs": [
    {
     "data": {
      "text/plain": [
       "6"
      ]
     },
     "execution_count": 2,
     "metadata": {},
     "output_type": "execute_result"
    }
   ],
   "source": [
    "# Write a recursive function to print the sum of 1st natural numbers using recursion\n",
    "def sum(num):\n",
    "    if num==0 or num==1:\n",
    "     return 1\n",
    "    else:\n",
    "     return sum(num-1)+num\n",
    "    \n",
    "\n",
    "\n",
    "sum(3)     \n",
    "\n",
    "     \n",
    "       "
   ]
  },
  {
   "cell_type": "code",
   "execution_count": 6,
   "metadata": {},
   "outputs": [
    {
     "name": "stdout",
     "output_type": "stream",
     "text": [
      "    This is me    \n",
      "This is me\n"
     ]
    }
   ],
   "source": [
    "# Strip function in python\n",
    "# It removes the blank spaces from the string in both the directions\n",
    "this= \"    This is me    \"\n",
    "print(this)\n",
    "print(this.strip())"
   ]
  },
  {
   "cell_type": "markdown",
   "metadata": {},
   "source": [
    "Chapter File I/O\n",
    "Python has an open functions for reading,updating and deleting files. It takes two parameters : filename and mode(type of function we want to perform)"
   ]
  },
  {
   "cell_type": "code",
   "execution_count": 1,
   "metadata": {},
   "outputs": [
    {
     "name": "stdout",
     "output_type": "stream",
     "text": [
      "I am good boy\n"
     ]
    }
   ],
   "source": [
    "# use open function to read the contents of the file\n",
    "# By default, the mode is r\n",
    "f=open(\"sample.txt\",\"r\")\n",
    "# r for reading\n",
    "data=f.read()\n",
    "print(data)\n",
    "f.close()\n",
    "# close the file after performing the work"
   ]
  },
  {
   "cell_type": "code",
   "execution_count": 2,
   "metadata": {},
   "outputs": [
    {
     "name": "stdout",
     "output_type": "stream",
     "text": [
      "I am \n"
     ]
    }
   ],
   "source": [
    "# we can also specify the number of words to be read in file.read()\n",
    "f=open(\"sample.txt\",\"r\")\n",
    "data=f.read(5)\n",
    "print(data)\n",
    "f.close()"
   ]
  },
  {
   "cell_type": "code",
   "execution_count": 8,
   "metadata": {},
   "outputs": [
    {
     "name": "stdout",
     "output_type": "stream",
     "text": [
      "I am good boy\n",
      "Also I am the best\n"
     ]
    }
   ],
   "source": [
    "# other methods to read the file\n",
    "# readline() prints the first line\n",
    "f=open(\"sample.txt\",\"r\")\n",
    "# r for reading\n",
    "data=f.readline()\n",
    "print(data,end=\"\")\n",
    "data=f.readline()\n",
    "print(data)\n",
    "f.close()"
   ]
  },
  {
   "cell_type": "code",
   "execution_count": null,
   "metadata": {},
   "outputs": [],
   "source": [
    "# Modes of opening a file\n",
    "# r -> open for reading \n",
    "# w -> open for writing \n",
    "# a -> open for appending \n",
    "# + -> open for updating(read and write) \n",
    "\n",
    "# \"rb\" will open for read in binary mode\n",
    "# \"rt\" will open for read in text mode  "
   ]
  },
  {
   "cell_type": "code",
   "execution_count": null,
   "metadata": {},
   "outputs": [],
   "source": [
    "# Writing files in python\n",
    "# first open it in write or append mode after which we use the python's f.write() mehtod to write to the file"
   ]
  },
  {
   "cell_type": "code",
   "execution_count": null,
   "metadata": {},
   "outputs": [],
   "source": [
    "# By default f.write() overwrites the file already present\n",
    "# For adding the contents of the f.write() to the end of the file use the append mode"
   ]
  },
  {
   "cell_type": "code",
   "execution_count": 11,
   "metadata": {},
   "outputs": [],
   "source": [
    "f=open(\"sample1.txt\",\"w\")\n",
    "f.write(\"This is nice\")\n",
    "f.write(\"This is nice\")\n",
    "f.write(\"This is nice\")\n",
    "f.write(\"This is nice\")\n",
    "f.close()\n",
    "# If the file is not present it creates it and copies all the text to that file"
   ]
  },
  {
   "cell_type": "code",
   "execution_count": 15,
   "metadata": {},
   "outputs": [
    {
     "name": "stdout",
     "output_type": "stream",
     "text": [
      "10\n",
      "I am good boy\n",
      "Also I am the best\n"
     ]
    }
   ],
   "source": [
    "# with statement\n",
    "# The best statement to open and close the file automatically is the with statement.\n",
    "with open (\"this.txt\",\"w\") as f:\n",
    "   file= f.write(\"hello paji\")\n",
    "print(file)\n",
    "\n",
    "with open(\"sample.txt\",\"r\") as f:\n",
    "    file=f.read()\n",
    "    print(file)"
   ]
  },
  {
   "cell_type": "markdown",
   "metadata": {},
   "source": [
    "file i/o practice set\n"
   ]
  },
  {
   "cell_type": "code",
   "execution_count": 9,
   "metadata": {},
   "outputs": [
    {
     "name": "stdout",
     "output_type": "stream",
     "text": [
      "Not Present\n"
     ]
    }
   ],
   "source": [
    "f=open(\"sample2.txt\")\n",
    "data=f.readline()\n",
    "if \"Twinkle\" in data:\n",
    "    print(\"Present\")\n",
    "else:\n",
    "    print(\"Not Present\")\n",
    "f.close()        "
   ]
  },
  {
   "cell_type": "code",
   "execution_count": 29,
   "metadata": {},
   "outputs": [
    {
     "name": "stdout",
     "output_type": "stream",
     "text": [
      "data changed\n"
     ]
    }
   ],
   "source": [
    "def HI_score():\n",
    "    return 89\n",
    "\n",
    "score=HI_score()\n",
    "with open(\"hi_score.txt\") as f:\n",
    "    data=f.read()\n",
    "    \n",
    "if data==\"\":\n",
    "     with open(\"hi_score.txt\",\"w\") as f:\n",
    "        f.write(str(score))\n",
    "        print(\"data changed\")\n",
    "\n",
    "elif score>int(data):\n",
    "    with open(\"hi_score.txt\",\"w\") as f:\n",
    "        f.write(str(score))\n",
    "        print(\"data changed\")\n",
    "\n",
    "else:\n",
    "    pass                \n",
    "\n"
   ]
  },
  {
   "cell_type": "code",
   "execution_count": 12,
   "metadata": {},
   "outputs": [
    {
     "name": "stdout",
     "output_type": "stream",
     "text": [
      "I am a censored and I am a censored. Also I am a censored\n"
     ]
    }
   ],
   "source": [
    "# problem 4\n",
    "with open(\"./dummy/donkey.txt\",\"r\") as f:\n",
    "    data=f.read()\n",
    "data=data.replace(\"donkey\",\"censored\")\n",
    "print(data)\n",
    "with open(\"./dummy/donkey.txt\",\"w\") as f:\n",
    "     f.write(data)\n",
    "      "
   ]
  },
  {
   "cell_type": "code",
   "execution_count": 43,
   "metadata": {},
   "outputs": [
    {
     "name": "stdout",
     "output_type": "stream",
     "text": [
      "i am a hero\n",
      "I AM A HERO\n",
      "I am a hero\n"
     ]
    }
   ],
   "source": [
    "# problem 5\n",
    "# To convert any data in lower case use \n",
    "data=\"I am a hero\"\n",
    "lower_data=data.lower()\n",
    "print(lower_data)\n",
    "upper_data=data.upper()\n",
    "print(upper_data)\n",
    "print(data)"
   ]
  },
  {
   "cell_type": "code",
   "execution_count": 14,
   "metadata": {},
   "outputs": [
    {
     "name": "stdout",
     "output_type": "stream",
     "text": [
      "data is present\n"
     ]
    }
   ],
   "source": [
    "# problem 6\n",
    "with open(\"log.txt\") as f:\n",
    "    data=f.read()\n",
    "if \"python\" in data.lower():\n",
    "    print(\"data is present\")\n",
    "    data=data.replace(\"python\",\"c++\")\n",
    "    with open(\"log.txt\",\"w\") as f:\n",
    "        content=f.write(data)\n",
    "else:\n",
    "    print(\"not present\")\n",
    "    exit()\n",
    "      "
   ]
  },
  {
   "cell_type": "code",
   "execution_count": null,
   "metadata": {},
   "outputs": [],
   "source": [
    "# problem 7\n",
    "# Write a program to find out the line number where \"python\" is present and replace it with the word \"c++\"\n",
    "# Algorithm\n",
    "# at first find out the line where python is present\n",
    "# then change the keyword python with c++\n",
    "content=True \n",
    "count=0\n",
    "while content: \n",
    "  with open(\"log.txt\") as f:\n",
    "    data=f.readline()\n",
    "    count+1\n",
    "    "
   ]
  },
  {
   "cell_type": "code",
   "execution_count": 47,
   "metadata": {},
   "outputs": [],
   "source": [
    "# problem 8\n",
    "with open(\"this.txt\") as f:\n",
    "    content=f.read()\n",
    "\n",
    "with open(\"copy.txt\",\"w\") as c:\n",
    "    c.write(content)"
   ]
  },
  {
   "cell_type": "code",
   "execution_count": 50,
   "metadata": {},
   "outputs": [],
   "source": [
    "# problem 10\n",
    "# deleting a file's content\n",
    "filename=\"dummy/sample3.txt\"\n",
    "with open(filename,\"w\") as f:\n",
    "    f.write(\"\")"
   ]
  },
  {
   "cell_type": "code",
   "execution_count": null,
   "metadata": {},
   "outputs": [],
   "source": [
    "# problem 11\n",
    "# renaming a file\n",
    "# OS import modeule"
   ]
  }
 ],
 "metadata": {
  "kernelspec": {
   "display_name": "Python 3.10.7 64-bit",
   "language": "python",
   "name": "python3"
  },
  "language_info": {
   "codemirror_mode": {
    "name": "ipython",
    "version": 3
   },
   "file_extension": ".py",
   "mimetype": "text/x-python",
   "name": "python",
   "nbconvert_exporter": "python",
   "pygments_lexer": "ipython3",
   "version": "3.10.7"
  },
  "orig_nbformat": 4,
  "vscode": {
   "interpreter": {
    "hash": "4ad4152416c9be57e3345f7bf80d67108b3c957628ff06c7bb0aef6813f68dbf"
   }
  }
 },
 "nbformat": 4,
 "nbformat_minor": 2
}
